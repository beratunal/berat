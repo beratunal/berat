{
 "cells": [
  {
   "cell_type": "code",
   "execution_count": 1,
   "id": "911a9ae3-8afb-4bc5-b9f7-7d0d83e48361",
   "metadata": {},
   "outputs": [],
   "source": [
    "import pandas as pd\n",
    "import numpy as np\n",
    "import matplotlib.pyplot as plt\n",
    "%matplotlib inline"
   ]
  },
  {
   "cell_type": "code",
   "execution_count": 6,
   "id": "d4b38fc8-c797-4df9-b014-4d70260b7e61",
   "metadata": {},
   "outputs": [
    {
     "data": {
      "text/html": [
       "<div>\n",
       "<style scoped>\n",
       "    .dataframe tbody tr th:only-of-type {\n",
       "        vertical-align: middle;\n",
       "    }\n",
       "\n",
       "    .dataframe tbody tr th {\n",
       "        vertical-align: top;\n",
       "    }\n",
       "\n",
       "    .dataframe thead th {\n",
       "        text-align: right;\n",
       "    }\n",
       "</style>\n",
       "<table border=\"1\" class=\"dataframe\">\n",
       "  <thead>\n",
       "    <tr style=\"text-align: right;\">\n",
       "      <th></th>\n",
       "      <th>Pregnancies</th>\n",
       "      <th>Gender</th>\n",
       "      <th>Glucose</th>\n",
       "      <th>BloodPressure</th>\n",
       "      <th>SkinThickness</th>\n",
       "      <th>Insulin</th>\n",
       "      <th>BMI</th>\n",
       "      <th>DiabetesPedigreeFunction</th>\n",
       "      <th>Age</th>\n",
       "      <th>Outcome</th>\n",
       "      <th>CalorieIntake</th>\n",
       "      <th>Exercise</th>\n",
       "      <th>SleepDuration</th>\n",
       "    </tr>\n",
       "  </thead>\n",
       "  <tbody>\n",
       "    <tr>\n",
       "      <th>0</th>\n",
       "      <td>0</td>\n",
       "      <td>M</td>\n",
       "      <td>148</td>\n",
       "      <td>72</td>\n",
       "      <td>35</td>\n",
       "      <td>0</td>\n",
       "      <td>33.6</td>\n",
       "      <td>0.627</td>\n",
       "      <td>50</td>\n",
       "      <td>1</td>\n",
       "      <td>2508.3</td>\n",
       "      <td>No</td>\n",
       "      <td>6</td>\n",
       "    </tr>\n",
       "    <tr>\n",
       "      <th>1</th>\n",
       "      <td>1</td>\n",
       "      <td>F</td>\n",
       "      <td>85</td>\n",
       "      <td>66</td>\n",
       "      <td>29</td>\n",
       "      <td>0</td>\n",
       "      <td>26.6</td>\n",
       "      <td>0.351</td>\n",
       "      <td>31</td>\n",
       "      <td>0</td>\n",
       "      <td>2760.0</td>\n",
       "      <td>Evening</td>\n",
       "      <td>8</td>\n",
       "    </tr>\n",
       "    <tr>\n",
       "      <th>2</th>\n",
       "      <td>0</td>\n",
       "      <td>M</td>\n",
       "      <td>183</td>\n",
       "      <td>64</td>\n",
       "      <td>0</td>\n",
       "      <td>0</td>\n",
       "      <td>23.3</td>\n",
       "      <td>0.672</td>\n",
       "      <td>32</td>\n",
       "      <td>1</td>\n",
       "      <td>6480.0</td>\n",
       "      <td>Morning</td>\n",
       "      <td>8</td>\n",
       "    </tr>\n",
       "    <tr>\n",
       "      <th>3</th>\n",
       "      <td>1</td>\n",
       "      <td>F</td>\n",
       "      <td>89</td>\n",
       "      <td>66</td>\n",
       "      <td>23</td>\n",
       "      <td>94</td>\n",
       "      <td>28.1</td>\n",
       "      <td>0.167</td>\n",
       "      <td>21</td>\n",
       "      <td>0</td>\n",
       "      <td>NaN</td>\n",
       "      <td>Evening</td>\n",
       "      <td>8</td>\n",
       "    </tr>\n",
       "    <tr>\n",
       "      <th>4</th>\n",
       "      <td>0</td>\n",
       "      <td>M</td>\n",
       "      <td>137</td>\n",
       "      <td>40</td>\n",
       "      <td>35</td>\n",
       "      <td>168</td>\n",
       "      <td>43.1</td>\n",
       "      <td>2.288</td>\n",
       "      <td>33</td>\n",
       "      <td>1</td>\n",
       "      <td>1970.0</td>\n",
       "      <td>No</td>\n",
       "      <td>9</td>\n",
       "    </tr>\n",
       "    <tr>\n",
       "      <th>...</th>\n",
       "      <td>...</td>\n",
       "      <td>...</td>\n",
       "      <td>...</td>\n",
       "      <td>...</td>\n",
       "      <td>...</td>\n",
       "      <td>...</td>\n",
       "      <td>...</td>\n",
       "      <td>...</td>\n",
       "      <td>...</td>\n",
       "      <td>...</td>\n",
       "      <td>...</td>\n",
       "      <td>...</td>\n",
       "      <td>...</td>\n",
       "    </tr>\n",
       "    <tr>\n",
       "      <th>763</th>\n",
       "      <td>3</td>\n",
       "      <td>F</td>\n",
       "      <td>101</td>\n",
       "      <td>76</td>\n",
       "      <td>48</td>\n",
       "      <td>180</td>\n",
       "      <td>32.9</td>\n",
       "      <td>0.171</td>\n",
       "      <td>63</td>\n",
       "      <td>0</td>\n",
       "      <td>2860.0</td>\n",
       "      <td>Morning</td>\n",
       "      <td>6</td>\n",
       "    </tr>\n",
       "    <tr>\n",
       "      <th>764</th>\n",
       "      <td>2</td>\n",
       "      <td>F</td>\n",
       "      <td>122</td>\n",
       "      <td>70</td>\n",
       "      <td>27</td>\n",
       "      <td>0</td>\n",
       "      <td>36.8</td>\n",
       "      <td>0.340</td>\n",
       "      <td>27</td>\n",
       "      <td>0</td>\n",
       "      <td>3320.0</td>\n",
       "      <td>Morning</td>\n",
       "      <td>7</td>\n",
       "    </tr>\n",
       "    <tr>\n",
       "      <th>765</th>\n",
       "      <td>0</td>\n",
       "      <td>M</td>\n",
       "      <td>121</td>\n",
       "      <td>72</td>\n",
       "      <td>23</td>\n",
       "      <td>112</td>\n",
       "      <td>26.2</td>\n",
       "      <td>0.245</td>\n",
       "      <td>30</td>\n",
       "      <td>0</td>\n",
       "      <td>3453.0</td>\n",
       "      <td>Evening</td>\n",
       "      <td>4</td>\n",
       "    </tr>\n",
       "    <tr>\n",
       "      <th>766</th>\n",
       "      <td>1</td>\n",
       "      <td>F</td>\n",
       "      <td>126</td>\n",
       "      <td>60</td>\n",
       "      <td>0</td>\n",
       "      <td>0</td>\n",
       "      <td>30.1</td>\n",
       "      <td>0.349</td>\n",
       "      <td>47</td>\n",
       "      <td>1</td>\n",
       "      <td>8850.0</td>\n",
       "      <td>No</td>\n",
       "      <td>8</td>\n",
       "    </tr>\n",
       "    <tr>\n",
       "      <th>767</th>\n",
       "      <td>1</td>\n",
       "      <td>F</td>\n",
       "      <td>93</td>\n",
       "      <td>70</td>\n",
       "      <td>31</td>\n",
       "      <td>0</td>\n",
       "      <td>30.4</td>\n",
       "      <td>0.315</td>\n",
       "      <td>23</td>\n",
       "      <td>0</td>\n",
       "      <td>2620.0</td>\n",
       "      <td>Both</td>\n",
       "      <td>8</td>\n",
       "    </tr>\n",
       "  </tbody>\n",
       "</table>\n",
       "<p>768 rows × 13 columns</p>\n",
       "</div>"
      ],
      "text/plain": [
       "     Pregnancies Gender  Glucose  BloodPressure  SkinThickness  Insulin   BMI  \\\n",
       "0              0      M      148             72             35        0  33.6   \n",
       "1              1      F       85             66             29        0  26.6   \n",
       "2              0      M      183             64              0        0  23.3   \n",
       "3              1      F       89             66             23       94  28.1   \n",
       "4              0      M      137             40             35      168  43.1   \n",
       "..           ...    ...      ...            ...            ...      ...   ...   \n",
       "763            3      F      101             76             48      180  32.9   \n",
       "764            2      F      122             70             27        0  36.8   \n",
       "765            0      M      121             72             23      112  26.2   \n",
       "766            1      F      126             60              0        0  30.1   \n",
       "767            1      F       93             70             31        0  30.4   \n",
       "\n",
       "     DiabetesPedigreeFunction  Age  Outcome  CalorieIntake Exercise  \\\n",
       "0                       0.627   50        1         2508.3       No   \n",
       "1                       0.351   31        0         2760.0  Evening   \n",
       "2                       0.672   32        1         6480.0  Morning   \n",
       "3                       0.167   21        0            NaN  Evening   \n",
       "4                       2.288   33        1         1970.0       No   \n",
       "..                        ...  ...      ...            ...      ...   \n",
       "763                     0.171   63        0         2860.0  Morning   \n",
       "764                     0.340   27        0         3320.0  Morning   \n",
       "765                     0.245   30        0         3453.0  Evening   \n",
       "766                     0.349   47        1         8850.0       No   \n",
       "767                     0.315   23        0         2620.0     Both   \n",
       "\n",
       "     SleepDuration  \n",
       "0                6  \n",
       "1                8  \n",
       "2                8  \n",
       "3                8  \n",
       "4                9  \n",
       "..             ...  \n",
       "763              6  \n",
       "764              7  \n",
       "765              4  \n",
       "766              8  \n",
       "767              8  \n",
       "\n",
       "[768 rows x 13 columns]"
      ]
     },
     "execution_count": 6,
     "metadata": {},
     "output_type": "execute_result"
    }
   ],
   "source": [
    "diabetes = pd.read_csv('diabetes.csv')\n",
    "diabetes\n"
   ]
  },
  {
   "cell_type": "code",
   "execution_count": 14,
   "id": "337b72bc-c416-47b6-b93d-7a0b3ca0a114",
   "metadata": {},
   "outputs": [
    {
     "name": "stdout",
     "output_type": "stream",
     "text": [
      "Diabetes Data Columns Names     :  Index(['Pregnancies', 'Gender', 'Glucose', 'BloodPressure', 'SkinThickness',\n",
      "       'Insulin', 'BMI', 'DiabetesPedigreeFunction', 'Age', 'Outcome',\n",
      "       'CalorieIntake', 'Exercise', 'SleepDuration'],\n",
      "      dtype='object')\n"
     ]
    }
   ],
   "source": [
    "print(\"Diabetes Data Columns Names     : \" ,diabetes.columns)"
   ]
  },
  {
   "cell_type": "code",
   "execution_count": 15,
   "id": "302ab609-a6e3-491e-b1c2-ddd2a6bd78bb",
   "metadata": {},
   "outputs": [
    {
     "name": "stdout",
     "output_type": "stream",
     "text": [
      "Dimension of Diabetes DATA: (768, 13)\n"
     ]
    }
   ],
   "source": [
    "print(\"Dimension of Diabetes DATA: {}\".format(diabetes.shape))"
   ]
  },
  {
   "cell_type": "code",
   "execution_count": 22,
   "id": "37022ae6-3b6e-4e43-900b-5d0439265a80",
   "metadata": {},
   "outputs": [],
   "source": [
    "#Outcome '0' is No Diabetes and Outcome '1' is Diabetes\n",
    "#I can reach these information from two ways. Second way is more usefull."
   ]
  },
  {
   "cell_type": "code",
   "execution_count": 17,
   "id": "6437f66a-0514-4d76-bc51-fb36d0b69253",
   "metadata": {},
   "outputs": [
    {
     "name": "stdout",
     "output_type": "stream",
     "text": [
      "Patient Number:  268\n",
      "Nonpatient Number:  500\n"
     ]
    }
   ],
   "source": [
    "X = diabetes.iloc[:,[0,1,2,3,4,5,6,7,8,9,10,11,12]].values\n",
    "Y = diabetes.iloc[:,[9]].values\n",
    "patient = []\n",
    "nonpatient = []\n",
    "\n",
    "for c in range(0, len(Y)):\n",
    "    \n",
    "    if Y[c] == 1 :\n",
    "        patient.append(X[c])\n",
    "    else:\n",
    "        nonpatient.append(X[c])\n",
    "    \n",
    "print(\"Patient Number: \" , len(patient))\n",
    "print(\"Nonpatient Number: \" , len(nonpatient))\n"
   ]
  },
  {
   "cell_type": "code",
   "execution_count": 18,
   "id": "fb72a96b-e8f6-4499-93dc-f8f53d24fa27",
   "metadata": {},
   "outputs": [
    {
     "name": "stdout",
     "output_type": "stream",
     "text": [
      "Outcome\n",
      "0    500\n",
      "1    268\n",
      "dtype: int64\n"
     ]
    }
   ],
   "source": [
    "print(diabetes.groupby('Outcome').size())"
   ]
  },
  {
   "cell_type": "code",
   "execution_count": 23,
   "id": "bb5e599e-1145-4ce5-a183-a5435c8ebd74",
   "metadata": {},
   "outputs": [],
   "source": [
    "#In this case 500 people is no diabetes, 268 people is diabetes."
   ]
  },
  {
   "cell_type": "code",
   "execution_count": 25,
   "id": "6fa1df17-4f8c-4966-a2ca-1603263f44e0",
   "metadata": {},
   "outputs": [
    {
     "name": "stdout",
     "output_type": "stream",
     "text": [
      "Table of Diabetes Ratio\n"
     ]
    },
    {
     "name": "stderr",
     "output_type": "stream",
     "text": [
      "C:\\Users\\Berat\\anaconda3\\lib\\site-packages\\seaborn\\_decorators.py:36: FutureWarning: Pass the following variable as a keyword arg: x. From version 0.12, the only valid positional argument will be `data`, and passing other arguments without an explicit keyword will result in an error or misinterpretation.\n",
      "  warnings.warn(\n"
     ]
    },
    {
     "data": {
      "image/png": "[encoded data removed]",
      "text/plain": [
       "<Figure size 432x288 with 1 Axes>"
      ]
     },
     "metadata": {
      "needs_background": "light"
     },
     "output_type": "display_data"
    }
   ],
   "source": [
    "import seaborn as sns\n",
    "\n",
    "sns.countplot(diabetes['Outcome'],label=\"Count\")\n",
    "print(\"Table of Diabetes Ratio\")"
   ]
  },
  {
   "cell_type": "code",
   "execution_count": 26,
   "id": "538d2ce1-e851-4d8a-b336-c1ce40751187",
   "metadata": {},
   "outputs": [
    {
     "name": "stdout",
     "output_type": "stream",
     "text": [
      "<class 'pandas.core.frame.DataFrame'>\n",
      "RangeIndex: 768 entries, 0 to 767\n",
      "Data columns (total 13 columns):\n",
      " #   Column                    Non-Null Count  Dtype  \n",
      "---  ------                    --------------  -----  \n",
      " 0   Pregnancies               768 non-null    int64  \n",
      " 1   Gender                    768 non-null    object \n",
      " 2   Glucose                   768 non-null    int64  \n",
      " 3   BloodPressure             768 non-null    int64  \n",
      " 4   SkinThickness             768 non-null    int64  \n",
      " 5   Insulin                   768 non-null    int64  \n",
      " 6   BMI                       768 non-null    float64\n",
      " 7   DiabetesPedigreeFunction  768 non-null    float64\n",
      " 8   Age                       768 non-null    int64  \n",
      " 9   Outcome                   768 non-null    int64  \n",
      " 10  CalorieIntake             753 non-null    float64\n",
      " 11  Exercise                  768 non-null    object \n",
      " 12  SleepDuration             768 non-null    int64  \n",
      "dtypes: float64(3), int64(8), object(2)\n",
      "memory usage: 78.1+ KB\n"
     ]
    }
   ],
   "source": [
    "diabetes.info()"
   ]
  },
  {
   "cell_type": "code",
   "execution_count": 60,
   "id": "cbff39cc-2912-40fe-a2c1-6e53184f4820",
   "metadata": {},
   "outputs": [],
   "source": [
    "from sklearn.model_selection import train_test_split\n",
    "\n",
    "X_train, X_test, y_train, y_test = train_test_split(diabetes.loc[:, diabetes.columns != 'Outcome'], diabetes['Outcome'], stratify=diabetes['Outcome'], random_state=66)"
   ]
  },
  {
   "cell_type": "code",
   "execution_count": 59,
   "id": "0ca44031-2f7c-45af-bb72-e167df3827aa",
   "metadata": {},
   "outputs": [],
   "source": [
    "#DECISION TREE METHOD"
   ]
  },
  {
   "cell_type": "code",
   "execution_count": 37,
   "id": "41229a76-035c-4e02-a878-cd97ad3bbf93",
   "metadata": {},
   "outputs": [],
   "source": [
    "from sklearn.tree import DecisionTreeClassifier\n",
    "\n",
    "tree = DecisionTreeClassifier(random_state=0)\n",
    "tree.fit(X_train, y_train)\n",
    "print(\"Accuracy on training set: {:.3f}\".format(tree.score(X_train, y_train)))\n",
    "print(\"Accuracy on test set: {:.3f}\".format(tree.score(X_test, y_test)))"
   ]
  },
  {
   "cell_type": "code",
   "execution_count": 35,
   "id": "8066b18e-f6d4-4e01-9ee3-21a1a701c5f4",
   "metadata": {},
   "outputs": [],
   "source": [
    "#Accuracy on training set: 1.000\n",
    "#Accuracy on test set: 0.714"
   ]
  },
  {
   "cell_type": "code",
   "execution_count": 38,
   "id": "cc4f8435-41b0-4025-bf2b-4557a6e03559",
   "metadata": {},
   "outputs": [],
   "source": [
    "tree = DecisionTreeClassifier(max_depth=3, random_state=0)\n",
    "tree.fit(X_train, y_train)\n",
    "\n",
    "print(\"Accuracy on training set: {:.3f}\".format(tree.score(X_train, y_train)))\n",
    "print(\"Accuracy on test set: {:.3f}\".format(tree.score(X_test, y_test)))"
   ]
  },
  {
   "cell_type": "code",
   "execution_count": 36,
   "id": "5424969b-7146-44d5-bb21-1241838a4264",
   "metadata": {},
   "outputs": [],
   "source": [
    "#Accuracy on training set: 0.773\n",
    "#Accuracy on test set: 0.740"
   ]
  },
  {
   "cell_type": "code",
   "execution_count": 39,
   "id": "0b888969-88c4-4f11-9a13-ec6a1bba0a5c",
   "metadata": {},
   "outputs": [],
   "source": [
    "print(\"Feature importances:\\n{}\".format(tree.feature_importances_))"
   ]
  },
  {
   "cell_type": "code",
   "execution_count": 34,
   "id": "943af625-1749-4335-b9b8-930dace649c2",
   "metadata": {},
   "outputs": [],
   "source": [
    "Feature importances:\n",
    "[ 0.04554275  0.6830362   0.          0.          0.          0.27142106\n",
    "  0.          0.        ]\n",
    "#We can then visualize the feature importances."
   ]
  },
  {
   "cell_type": "code",
   "execution_count": 40,
   "id": "9321bd58-26c1-4d66-b433-cbae42b2376e",
   "metadata": {},
   "outputs": [],
   "source": [
    "def plot_feature_importances_diabetes(model):\n",
    "    plt.figure(figsize=(8,6))\n",
    "    n_features = 8\n",
    "    plt.barh(range(n_features), model.feature_importances_, align='center')\n",
    "    plt.yticks(np.arange(n_features), diabetes_features)\n",
    "    plt.xlabel(\"Feature importance\")\n",
    "    plt.ylabel(\"Feature\")\n",
    "    plt.ylim(-1, n_features)\n",
    "\n",
    "plot_feature_importances_diabetes(tree)\n",
    "plt.savefig('feature_importance')"
   ]
  },
  {
   "cell_type": "code",
   "execution_count": 41,
   "id": "ba2475d0-d3c5-416c-b6d6-ddb5676cfe37",
   "metadata": {},
   "outputs": [],
   "source": [
    "#SVM - SUPPORT VECTOR MACHINE"
   ]
  },
  {
   "cell_type": "code",
   "execution_count": 42,
   "id": "7a906f59-f728-4413-9212-d94fe2bc9ca0",
   "metadata": {},
   "outputs": [],
   "source": [
    "from sklearn.svm import SVC\n",
    "\n",
    "svc = SVC()\n",
    "svc.fit(X_train, y_train)\n",
    "\n",
    "print(\"Accuracy on training set: {:.2f}\".format(svc.score(X_train, y_train)))\n",
    "print(\"Accuracy on test set: {:.2f}\".format(svc.score(X_test, y_test)))"
   ]
  },
  {
   "cell_type": "code",
   "execution_count": 43,
   "id": "e97b515f-539d-467e-9545-e6e97d65d95c",
   "metadata": {},
   "outputs": [],
   "source": [
    "#Accuracy on training set: 1.00\n",
    "#Accuracy on test set: 0.65\n",
    "#The model overfits quite substantially, with a perfect score on the training set and only 65% accuracy on the test set. SVM requires all the features to vary on a similar scale."
   ]
  },
  {
   "cell_type": "code",
   "execution_count": 44,
   "id": "35f98cb8-212f-4eab-b00c-dcc5dd7c133f",
   "metadata": {},
   "outputs": [],
   "source": [
    "from sklearn.preprocessing import MinMaxScaler\n",
    "\n",
    "scaler = MinMaxScaler()\n",
    "X_train_scaled = scaler.fit_transform(X_train)\n",
    "X_test_scaled = scaler.fit_transform(X_test)\n",
    "\n",
    "svc = SVC()\n",
    "svc.fit(X_train_scaled, y_train)\n",
    "\n",
    "print(\"Accuracy on training set: {:.2f}\".format(svc.score(X_train_scaled, y_train)))\n",
    "print(\"Accuracy on test set: {:.2f}\".format(svc.score(X_test_scaled, y_test)))"
   ]
  },
  {
   "cell_type": "code",
   "execution_count": 45,
   "id": "4784c630-4f11-44ca-ae4a-dfa9f64b1d4a",
   "metadata": {},
   "outputs": [],
   "source": [
    "#Accuracy on training set: 0.77\n",
    "#Accuracy on test set: 0.77\n",
    "#Scaling the data made a huge difference! Now we are actually in an underfitting regime, where training and test set performance are quite similar but less close to 100% accuracy. From here, we can try increasing either C or gamma to fit a more complex model."
   ]
  },
  {
   "cell_type": "code",
   "execution_count": 46,
   "id": "5c83dba1-71b5-4865-a542-e79e580dba99",
   "metadata": {},
   "outputs": [],
   "source": [
    "svc = SVC(C=1000)\n",
    "svc.fit(X_train_scaled, y_train)\n",
    "\n",
    "print(\"Accuracy on training set: {:.3f}\".format(\n",
    "    svc.score(X_train_scaled, y_train)))\n",
    "print(\"Accuracy on test set: {:.3f}\".format(svc.score(X_test_scaled, y_test)))"
   ]
  },
  {
   "cell_type": "code",
   "execution_count": 47,
   "id": "fa6c2726-0ab5-41af-8f03-7c39d6e123c1",
   "metadata": {},
   "outputs": [],
   "source": [
    "#Accuracy on training set: 0.790\n",
    "#Accuracy on test set: 0.797\n",
    "#Here, increasing C allows us to improve the model, resulting in 79.7% test set accuracy."
   ]
  },
  {
   "cell_type": "code",
   "execution_count": 49,
   "id": "d2790fa8-ccd5-43af-acd5-cee3549e6523",
   "metadata": {},
   "outputs": [],
   "source": []
  },
  {
   "cell_type": "code",
   "execution_count": null,
   "id": "af30e64a-61f0-4e8a-9e07-2194c0fdf086",
   "metadata": {},
   "outputs": [],
   "source": []
  }
 ],
 "metadata": {
  "kernelspec": {
   "display_name": "Python 3",
   "language": "python",
   "name": "python3"
  },
  "language_info": {
   "codemirror_mode": {
    "name": "ipython",
    "version": 3
   },
   "file_extension": ".py",
   "mimetype": "text/x-python",
   "name": "python",
   "nbconvert_exporter": "python",
   "pygments_lexer": "ipython3",
   "version": "3.8.8"
  }
 },
 "nbformat": 4,
 "nbformat_minor": 5
}
